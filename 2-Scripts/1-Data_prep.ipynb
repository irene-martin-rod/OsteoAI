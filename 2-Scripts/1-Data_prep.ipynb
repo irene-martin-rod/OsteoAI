{
 "cells": [
  {
   "cell_type": "markdown",
   "metadata": {},
   "source": [
    "### **TÍTULO**"
   ]
  },
  {
   "cell_type": "markdown",
   "metadata": {},
   "source": [
    "Import libraries"
   ]
  },
  {
   "cell_type": "code",
   "execution_count": 14,
   "metadata": {},
   "outputs": [],
   "source": [
    "import os\n",
    "from PIL import Image\n",
    "import pandas as pd\n",
    "import cv2"
   ]
  },
  {
   "cell_type": "code",
   "execution_count": 28,
   "metadata": {},
   "outputs": [],
   "source": [
    "#def load_images(path):\n",
    "    #'''Funtion to load images using PIL'''\n",
    "    #images = []\n",
    "    #names = []\n",
    "    #for file in os.listdir(path):\n",
    "        #final_path = os.path.join(path, file)\n",
    "        #image = Image.open(final_path)\n",
    "        #images.append(image)\n",
    "        #names.append(file)\n",
    "\n",
    "    #return images, names\n",
    "\n",
    "def load_images_opencv(path):\n",
    "    '''Funtion to load images using OpenCV'''\n",
    "    images = []\n",
    "    names = []\n",
    "    for file in os.listdir(path):\n",
    "        img_path = os.path.join(path, file)\n",
    "        image = cv2.imread(img_path)\n",
    "        images.append(image)\n",
    "        names.append(file)\n",
    "    return images, names\n",
    "\n",
    "\n",
    "def load_labels(path):\n",
    "    '''Function to load labels'''\n",
    "    labels = {}\n",
    "    for file in os.listdir(path): \n",
    "        final_path = os.path.join(path, file)\n",
    "        with open(final_path, 'r') as f: \n",
    "            # Parse each line as a list of floats (assuming labels are space-separated)\n",
    "            label_data = [list(map(float, line.strip().split())) for line in f.readlines()]\n",
    "            labels[file] = label_data\n",
    "    return labels\n",
    "\n",
    "\n",
    "\n",
    "def resize_images_and_labels(images, labels, size=(640, 640)):\n",
    "    '''Function for resizing images and adjusting labels including keypoints'''\n",
    "    resized_images = []\n",
    "    resized_labels = {}\n",
    "\n",
    "    for img, name in zip(images, labels.keys()):\n",
    "        h, w = img.shape[:2]\n",
    "        resized_img = cv2.resize(img, size)\n",
    "        resized_images.append(resized_img)\n",
    "\n",
    "        # Adjust the label coordinates to the new image size\n",
    "        new_labels = []\n",
    "        for label in labels[name]:\n",
    "            class_id = label[0]\n",
    "            x_center = label[1] * size[0] / w  # Adjust x_center\n",
    "            y_center = label[2] * size[1] / h  # Adjust y_center\n",
    "            box_width = label[3] * size[0] / w  # Adjust width\n",
    "            box_height = label[4] * size[1] / h  # Adjust height\n",
    "\n",
    "            # Adjust keypoints (if present)\n",
    "            keypoints = []\n",
    "            if len(label) > 5:\n",
    "                for i in range(5, len(label), 2):  # Iterate over keypoint pairs\n",
    "                    kp_x = label[i] * size[0] / w  # Adjust keypoint x\n",
    "                    kp_y = label[i+1] * size[1] / h  # Adjust keypoint y\n",
    "                    keypoints.extend([kp_x, kp_y])\n",
    "\n",
    "            # Combine adjusted values\n",
    "            new_label = [class_id, x_center, y_center, box_width, box_height] + keypoints\n",
    "            new_labels.append(new_label)\n",
    "\n",
    "        resized_labels[name] = new_labels\n",
    "\n",
    "    return resized_images, resized_labels\n",
    "\n",
    "\n",
    "#Check if image are in colour scale\n",
    "def convert_to_grayscale(images):\n",
    "    '''Function to convert images to gray scale'''\n",
    "    grayscale_images = []\n",
    "    for img in images:\n",
    "        grayscale_img = cv2.cvtColor(img, cv2.COLOR_BGR2GRAY)\n",
    "        grayscale_images.append(grayscale_img)\n",
    "    return grayscale_images\n",
    "\n",
    "\n",
    "def normalize_images(images):\n",
    "    '''Function to normalize pixel values (0 - 1)'''\n",
    "    normalized_images = []\n",
    "    for img in images:\n",
    "        normalized_img = img / 255.0  \n",
    "        normalized_images.append(normalized_img)\n",
    "    return normalized_images\n",
    "\n",
    "\n",
    "def save_images_and_labels(images, names, labels, save_path_img, save_path_lbl):\n",
    "    '''Function to save processed images and adjusted labels'''\n",
    "    for img, name in zip(images, names):\n",
    "        # Save the image\n",
    "        cv2.imwrite(os.path.join(save_path_img, name), img)\n",
    "\n",
    "        # Save the corresponding label\n",
    "        label_name = name.replace('.jpg', '.txt')  # Assuming image name is .jpg and label is .txt\n",
    "        with open(os.path.join(save_path_lbl, label_name), 'w') as f:\n",
    "            for label in labels[label_name]:\n",
    "                f.write(' '.join(map(str, label)) + '\\n')\n",
    "\n"
   ]
  },
  {
   "cell_type": "markdown",
   "metadata": {},
   "source": [
    "### Import data"
   ]
  },
  {
   "cell_type": "code",
   "execution_count": 6,
   "metadata": {},
   "outputs": [],
   "source": [
    "train_images_path = r\"..\\1-Data\\BoneFractureYolo8\\train\\images\"\n",
    "train_labels_path = r\"..\\1-Data\\BoneFractureYolo8\\train\\labels\"\n",
    "test_images_path = r\"..\\1-Data\\BoneFractureYolo8\\test\\images\"\n",
    "test_labels_path = r\"..\\1-Data\\BoneFractureYolo8\\test\\labels\"\n",
    "valid_images_path = r\"..\\1-Data\\BoneFractureYolo8\\valid\\images\"\n",
    "valid_labels_path = r\"..\\1-Data\\BoneFractureYolo8\\valid\\labels\""
   ]
  },
  {
   "cell_type": "code",
   "execution_count": 29,
   "metadata": {},
   "outputs": [],
   "source": [
    "#Train dataset\n",
    "train_images, train_names = load_images_opencv(train_images_path)\n",
    "train_labels = load_labels(train_labels_path)\n",
    "\n",
    "#Valid dataset\n",
    "valid_images, valid_names = load_images_opencv(valid_images_path)\n",
    "valid_labels = load_labels(valid_labels_path)\n",
    "\n",
    "#Test\n",
    "test_images, test_names = load_images_opencv(test_images_path)\n",
    "test_labels =load_labels(test_labels_path)"
   ]
  },
  {
   "cell_type": "markdown",
   "metadata": {},
   "source": [
    "### Processing images"
   ]
  },
  {
   "cell_type": "code",
   "execution_count": 31,
   "metadata": {},
   "outputs": [],
   "source": [
    "#Resizing images\n",
    "train_resized_images, train_resized_labels = resize_images_and_labels(train_images, train_labels)\n",
    "test_resized_images, test_resized_labels = resize_images_and_labels(test_images, test_labels)\n",
    "valid_resized_images, valid_resized_labels = resize_images_and_labels(valid_images, valid_labels)"
   ]
  },
  {
   "cell_type": "markdown",
   "metadata": {},
   "source": [
    "Importar imágenes\n",
    "Procesar imágenes procesadas\n",
    "Importar el yaml con la simágenes porcesadas\n",
    "Entrenar modeleo preentrenado"
   ]
  },
  {
   "cell_type": "markdown",
   "metadata": {},
   "source": [
    "Unir imagenes y etiquetas\n",
    "datos = []\n",
    "\n",
    "for nombre in nombres_imagenes:\n",
    "    nombre_txt = nombre.replace('.jpg', '.txt').replace('.png', '.txt')\n",
    "    etiqueta = etiquetas.get(nombre_txt, 'Sin etiqueta')\n",
    "    datos.append({\n",
    "        'nombre_imagen': nombre,\n",
    "        'imagen': nombre,  # Aquí podrías poner la ruta si prefieres\n",
    "        'etiqueta': etiqueta\n",
    "    })\n",
    "\n",
    "df = pd.DataFrame(datos)\n",
    "\n",
    "\n",
    "\n",
    "\n",
    "\n",
    "\n",
    "# Guardar imágenes\n",
    "def save_images_opencv(images, names, save_path):\n",
    "    for img, name in zip(images, names):\n",
    "        cv2.imwrite(os.path.join(save_path, name), img)\n",
    "\n",
    "# Cargar imágenes usando OpenCV\n",
    "def load_images_opencv(path):\n",
    "    images = []\n",
    "    names = []\n",
    "    for file in os.listdir(path):\n",
    "        img_path = os.path.join(path, file)\n",
    "        image = cv2.imread(img_path)\n",
    "        images.append(image)\n",
    "        names.append(file)\n",
    "    return images, names\n",
    "\n",
    "# Ejemplo de preprocesado completo\n",
    "train_images_path = r\"..\\1-Data\\BoneFractureYolo8\\train\\images\"\n",
    "train_images, train_names = load_images_opencv(train_images_path)\n",
    "\n",
    "# Redimensionar, convertir a escala de grises, normalizar\n",
    "train_images_resized = resize_images_opencv(train_images)\n",
    "train_images_gray = convert_to_grayscale_opencv(train_images_resized)\n",
    "train_images_normalized = normalize_images_opencv(train_images_gray)\n",
    "\n",
    "# Guardar las imágenes preprocesadas\n",
    "save_images_opencv(train_images_normalized, train_names, \"path_to_save_preprocessed_images\")"
   ]
  }
 ],
 "metadata": {
  "kernelspec": {
   "display_name": "Python 3",
   "language": "python",
   "name": "python3"
  },
  "language_info": {
   "codemirror_mode": {
    "name": "ipython",
    "version": 3
   },
   "file_extension": ".py",
   "mimetype": "text/x-python",
   "name": "python",
   "nbconvert_exporter": "python",
   "pygments_lexer": "ipython3",
   "version": "3.11.9"
  }
 },
 "nbformat": 4,
 "nbformat_minor": 2
}
