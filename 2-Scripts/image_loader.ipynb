{
 "cells": [
  {
   "cell_type": "markdown",
   "metadata": {},
   "source": [
    "## <div align=\"center\"> **LOADING IMAGES AND PREPROCESSING**"
   ]
  },
  {
   "cell_type": "markdown",
   "metadata": {},
   "source": [
    "-----------"
   ]
  },
  {
   "cell_type": "code",
   "execution_count": 4,
   "metadata": {},
   "outputs": [],
   "source": [
    "import os\n",
    "import cv2\n",
    "import random\n",
    "import matplotlib.pyplot as plt"
   ]
  },
  {
   "cell_type": "markdown",
   "metadata": {},
   "source": [
    "### **Load Images**"
   ]
  },
  {
   "cell_type": "code",
   "execution_count": 9,
   "metadata": {},
   "outputs": [],
   "source": [
    "class LoadImage:\n",
    "    '''Class to load and visualize images''' \n",
    "\n",
    "    def __init__(self, image_path, label_path=None):\n",
    "        self.image_path = image_path\n",
    "        self.label_path = label_path  # It can be None if there are not labels \n",
    "\n",
    "    def load_images_opencv(self):\n",
    "        '''Function to load images using OpenCV'''\n",
    "        images = []\n",
    "        names = []\n",
    "        for file in os.listdir(self.image_path):\n",
    "            img_path = os.path.join(self.image_path, file)\n",
    "            image = cv2.imread(img_path)\n",
    "            if image is not None:  # Check that the image loads well\n",
    "                images.append(image)\n",
    "                names.append(file)\n",
    "        return images, names\n",
    "    \n",
    "    def load_labels(self):\n",
    "        '''Function to load labels'''\n",
    "        if self.label_path is None:\n",
    "            # If there isn't a label path, a message appears\n",
    "            print(\"No label path provided, skipping label loading.\")\n",
    "            return {}\n",
    "\n",
    "        labels = {}\n",
    "        for file in os.listdir(self.label_path): \n",
    "            final_path = os.path.join(self.label_path, file)\n",
    "            with open(final_path, 'r') as f: \n",
    "                # Parse each line as a list of floats (assuming labels are space-separated)\n",
    "                label_data = [list(map(float, line.strip().split())) for line in f.readlines()]\n",
    "                labels[file] = label_data\n",
    "        return labels\n",
    "    \n",
    "    def plot_images_with_bboxes(self, num_images=2):\n",
    "        '''Method to plot a random selection of images with bounding boxes if available'''\n",
    "        images, names = self.load_images_opencv()\n",
    "        labels = self.load_labels()\n",
    "\n",
    "        if not images:\n",
    "            print(\"No images found to display.\")\n",
    "            return\n",
    "\n",
    "        num_images = min(num_images, len(images))\n",
    "        selected_indices = random.sample(range(len(images)), num_images)\n",
    "\n",
    "        for idx in selected_indices:\n",
    "            img = images[idx]\n",
    "            img_name = names[idx]\n",
    "            img_labels = labels.get(img_name.replace('.jpg', '.txt'), None)\n",
    "\n",
    "            # Plot the image\n",
    "            plt.figure(figsize=(6, 6))\n",
    "            plt.imshow(cv2.cvtColor(img, cv2.COLOR_BGR2RGB))\n",
    "\n",
    "            if img_labels:\n",
    "                height, width, _ = img.shape\n",
    "\n",
    "                for label in img_labels:\n",
    "                    if len(label) >= 9:\n",
    "                        # Extract coordinates\n",
    "                        _, x1, y1, x2, y2, x3, y3, x4, y4 = label[:9]\n",
    "\n",
    "                        # Convert relative coordinates to pixel coordinates\n",
    "                        x1_pixel, y1_pixel = int(x1 * width), int(y1 * height)\n",
    "                        x2_pixel, y2_pixel = int(x2 * width), int(y2 * height)\n",
    "                        x3_pixel, y3_pixel = int(x3 * width), int(y3 * height)\n",
    "                        x4_pixel, y4_pixel = int(x4 * width), int(y4 * height)\n",
    "\n",
    "                        # Draw the polygon (bounding box) using the four points\n",
    "                        plt.gca().add_patch(plt.Polygon(\n",
    "                            [(x1_pixel, y1_pixel), (x2_pixel, y2_pixel), (x3_pixel, y3_pixel), (x4_pixel, y4_pixel)],\n",
    "                            edgecolor='red', facecolor='none', lw=2\n",
    "                        ))\n",
    "                    else:\n",
    "                        print(f\"Skipping label with unexpected length: {len(label)}\")\n",
    "            \n",
    "                plt.title(f\"Image: {img_name}\")\n",
    "            else:\n",
    "                plt.title(f\"Image: {img_name} (No Labels Available)\")\n",
    "            \n",
    "            plt.axis('off')\n",
    "            plt.show()"
   ]
  }
 ],
 "metadata": {
  "kernelspec": {
   "display_name": "venv",
   "language": "python",
   "name": "python3"
  },
  "language_info": {
   "codemirror_mode": {
    "name": "ipython",
    "version": 3
   },
   "file_extension": ".py",
   "mimetype": "text/x-python",
   "name": "python",
   "nbconvert_exporter": "python",
   "pygments_lexer": "ipython3",
   "version": "3.10.12"
  }
 },
 "nbformat": 4,
 "nbformat_minor": 2
}
