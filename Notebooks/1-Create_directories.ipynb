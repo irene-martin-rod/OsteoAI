{
 "cells": [
  {
   "cell_type": "markdown",
   "metadata": {},
   "source": [
    "# <div style=\"text-align: center;\"> **CREARTING DIRECTORIES AND COPING IMAGES** </div>"
   ]
  },
  {
   "cell_type": "markdown",
   "metadata": {},
   "source": [
    "------------------"
   ]
  },
  {
   "cell_type": "code",
   "execution_count": null,
   "metadata": {},
   "outputs": [],
   "source": [
    "import os\n",
    "import sys\n",
    "sys.path.append(os.path.abspath('../src'))\n",
    "from creating_directories import create_directories\n",
    "from copy_images import copy_images"
   ]
  },
  {
   "cell_type": "markdown",
   "metadata": {},
   "source": [
    "### **Creating directories**"
   ]
  },
  {
   "cell_type": "code",
   "execution_count": 3,
   "metadata": {},
   "outputs": [
    {
     "name": "stdout",
     "output_type": "stream",
     "text": [
      "Main directories created:\n",
      "Train directory: ../Data/Processed/ml-dp/train\n",
      "Validation directory: ../Data/Processed/ml-dp/val\n",
      "Test directory: ../Data/Processed/ml-dp/test\n",
      "Creating subdirectories:\n",
      "Train fracture directory: ../Data/Processed/ml-dp/train/fracture\n",
      "Train nofracture directory: ../Data/Processed/ml-dp/train/nofracture\n",
      "Val fracture directory: ../Data/Processed/ml-dp/val/fracture\n",
      "Val nofracture directory: ../Data/Processed/ml-dp/val/nofracture\n",
      "Test fracture directory: ../Data/Processed/ml-dp/test/fracture\n",
      "Test nofracture directory: ../Data/Processed/ml-dp/test/nofracture\n",
      "Directories created successfully.\n"
     ]
    }
   ],
   "source": [
    "#Set the directory with the folders fracture and nofracture\n",
    "base_path = \"../Data/Processed/ml-dp\"\n",
    "\n",
    "create_directories(base_path)"
   ]
  },
  {
   "cell_type": "markdown",
   "metadata": {},
   "source": [
    "### **Coping images to the new directories**"
   ]
  },
  {
   "cell_type": "code",
   "execution_count": 4,
   "metadata": {},
   "outputs": [
    {
     "name": "stdout",
     "output_type": "stream",
     "text": [
      "Length of fracture's images: 1935\n",
      "Number of fracture's images in train: 1238.4\n",
      "Number of fracture's images in validation: 309.6\n",
      "Number of fracture's images in test: 387.0\n",
      "Length of nofracture's images: 1902\n",
      "Number of nofracture's images in train: 1217.2800000000002\n",
      "Number of nofracture's images in validation: 304.32000000000005\n",
      "Number of nofracture's images in test: 380.40000000000003\n"
     ]
    }
   ],
   "source": [
    "#Print the length of fracture and nofracture directories\n",
    "fracture = \"../Data/Processed/ml-dp/fracture\"\n",
    "nofracture = \"../Data/Processed/ml-dp/nofracture\"\n",
    "\n",
    "print(\"Length of fracture's images:\", len(os.listdir(fracture)))\n",
    "fraction_fracture = 0.8 * len(os.listdir(fracture))\n",
    "print(\"Number of fracture's images in train:\", 0.8 * fraction_fracture)\n",
    "print(\"Number of fracture's images in validation:\", 0.2 * fraction_fracture)\n",
    "print(\"Number of fracture's images in test:\", 0.2 * len(os.listdir(fracture)))\n",
    "\n",
    "print(\"Length of nofracture's images:\", len(os.listdir(nofracture)))\n",
    "fraction_nofracture = 0.8 * len(os.listdir(nofracture))\n",
    "print(\"Number of nofracture's images in train:\", 0.8 * fraction_nofracture)\n",
    "print(\"Number of nofracture's images in validation:\", 0.2 * fraction_nofracture)\n",
    "print(\"Number of nofracture's images in test:\", 0.2 * len(os.listdir(nofracture)))"
   ]
  },
  {
   "cell_type": "code",
   "execution_count": 5,
   "metadata": {},
   "outputs": [
    {
     "name": "stdout",
     "output_type": "stream",
     "text": [
      "1238 copied from ../Data/Processed/ml-dp/fracture to ../Data/Processed/ml-dp/train/fracture\n",
      "310 copied from ../Data/Processed/ml-dp/fracture to ../Data/Processed/ml-dp/val/fracture\n",
      "387 copied from ../Data/Processed/ml-dp/fracture to ../Data/Processed/ml-dp/test/fracture\n",
      "1217 copied from ../Data/Processed/ml-dp/nofracture to ../Data/Processed/ml-dp/train/nofracture\n",
      "305 copied from ../Data/Processed/ml-dp/nofracture to ../Data/Processed/ml-dp/val/nofracture\n",
      "380 copied from ../Data/Processed/ml-dp/nofracture to ../Data/Processed/ml-dp/test/nofracture\n"
     ]
    }
   ],
   "source": [
    "#Copy images from fractures to train/fractures\n",
    "copy_images(\"../Data/Processed/ml-dp/fracture\", \"../Data/Processed/ml-dp/train/fracture\", 0, 1238)\n",
    "#Copy images from fractures to val/fracture\n",
    "copy_images(\"../Data/Processed/ml-dp/fracture\", \"../Data/Processed/ml-dp/val/fracture\", 1238, 1548)\n",
    "#Copy images from fractures to test/fracture\n",
    "copy_images(\"../Data/Processed/ml-dp/fracture\", \"../Data/Processed/ml-dp/test/fracture\", 1548, 1935)\n",
    "\n",
    "#Copy images from nofractures to train/nofractures\n",
    "copy_images(\"../Data/Processed/ml-dp/nofracture\", \"../Data/Processed/ml-dp/train/nofracture\", 0, 1217)\n",
    "#Copy images from nofractures to val/nofracture\n",
    "copy_images(\"../Data/Processed/ml-dp/nofracture\", \"../Data/Processed/ml-dp/val/nofracture\", 1217, 1522)\n",
    "#Copy images from nofractures to test/nofracture\n",
    "copy_images(\"../Data/Processed/ml-dp/nofracture\", \"../Data/Processed/ml-dp/test/nofracture\", 1522, 1902)"
   ]
  }
 ],
 "metadata": {
  "kernelspec": {
   "display_name": "venv",
   "language": "python",
   "name": "python3"
  },
  "language_info": {
   "codemirror_mode": {
    "name": "ipython",
    "version": 3
   },
   "file_extension": ".py",
   "mimetype": "text/x-python",
   "name": "python",
   "nbconvert_exporter": "python",
   "pygments_lexer": "ipython3",
   "version": "3.10.12"
  }
 },
 "nbformat": 4,
 "nbformat_minor": 2
}
